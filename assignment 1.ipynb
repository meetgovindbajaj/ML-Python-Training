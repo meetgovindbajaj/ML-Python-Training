{
 "cells": [
  {
   "cell_type": "code",
   "execution_count": 13,
   "metadata": {},
   "outputs": [
    {
     "name": "stdout",
     "output_type": "stream",
     "text": [
      "Enter the contents: 14552458\n",
      "my list -  {'1', '8', '2', '4', '5'}\n"
     ]
    }
   ],
   "source": [
    "# Q1. Write a program to get a user input in the form of a list data type. Return a list by removing all the duplicates.\n",
    "\n",
    "my_list=list(input(\"Enter the contents: \"))\n",
    "\n",
    "list1=my_list\n",
    "\n",
    "list2=set(list1)\n",
    "\n",
    "print(\"my list - \",list2)"
   ]
  },
  {
   "cell_type": "code",
   "execution_count": 11,
   "metadata": {},
   "outputs": [
    {
     "name": "stdout",
     "output_type": "stream",
     "text": [
      "Enter the elements- 5 7 6 8 4 2 3 6\n",
      "\n",
      "Tuple -  (5, 7, 6, 8, 4, 2, 3, 6)\n",
      "\n",
      "Length of tuple -  8\n",
      "\n",
      "Sum of tuple -  41\n",
      "\n",
      "Largest number in the list -  8\n",
      "\n",
      "Smallest number in the list -  2\n"
     ]
    }
   ],
   "source": [
    "\"\"\"Q2. Write a program to create a user defined tuple with 'int' data type and perform the following operations:\n",
    "    Find the length of tuple\n",
    "    Find the sum of all the elements of a tuple\n",
    "    Find the largest and smallest element of tuple\"\"\"\n",
    "\n",
    "a=(input('Enter the elements- '))\n",
    "\n",
    "b=tuple(map(int,a.split(' ')))#Sir this line is copied from net, I still don't know how this works, I'll ask this in next class\n",
    "\n",
    "print('\\nTuple - ',b)\n",
    "\n",
    "print('\\nLength of tuple - ',len(b))\n",
    "\n",
    "print(\"\\nSum of tuple - \",sum(b))\n",
    "\n",
    "print(\"\\nLargest number in the list - \",max(b))\n",
    "\n",
    "print('\\nSmallest number in the list - ',min(b))"
   ]
  },
  {
   "cell_type": "code",
   "execution_count": 21,
   "metadata": {},
   "outputs": [
    {
     "name": "stdout",
     "output_type": "stream",
     "text": [
      "Enter the number- 13\n",
      "\n",
      "Enter the ith bit of that number- 1\n",
      "\n",
      "The final number is-  15\n"
     ]
    }
   ],
   "source": [
    "# Q3. Given a number and ith bit, change the ith bit of that number to 1.\n",
    "\n",
    "a=int(input('Enter the number- '))\n",
    "\n",
    "i=int(input('\\nEnter the ith bit of that number- '))\n",
    "\n",
    "b=1<<i\n",
    "\n",
    "c=a|b\n",
    "\n",
    "print(\"\\nThe final number is- \",c)"
   ]
  },
  {
   "cell_type": "code",
   "execution_count": 2,
   "metadata": {},
   "outputs": [
    {
     "name": "stdout",
     "output_type": "stream",
     "text": [
      "Enter the number- 5\n",
      "\n",
      "1\n",
      "\n",
      "Enter the number- 6\n",
      "\n",
      "0\n"
     ]
    }
   ],
   "source": [
    "# Q4. Given a number, print 1 if number is odd otherwise print 0.\n",
    "\n",
    "a=int(input('Enter the number- '))\n",
    "\n",
    "print('\\n0'if a%2==0 else '\\n1')\n",
    "\n",
    "a=int(input('\\nEnter the number- '))\n",
    "\n",
    "print('\\n0'if a%2==0 else '\\n1')"
   ]
  },
  {
   "cell_type": "code",
   "execution_count": 6,
   "metadata": {},
   "outputs": [
    {
     "name": "stdout",
     "output_type": "stream",
     "text": [
      "Enter the elements of list 1- 542891\n",
      "\n",
      "Enter the elements of list 2- 67224369\n",
      "\n",
      "Sorted and combined list-  ['1', '2', '2', '2', '3', '4', '4', '5', '6', '6', '7', '8', '9', '9']\n"
     ]
    }
   ],
   "source": [
    "'''Q5. Given two list of integers A and B. Write a program to merge them into a single sorted list that contains every item from\n",
    "list A and B in ascending order.'''\n",
    "\n",
    "a=list(input('Enter the elements of list 1- '))\n",
    "\n",
    "b=list(input('\\nEnter the elements of list 2- '))\n",
    "\n",
    "c=a+b\n",
    "\n",
    "c.sort()\n",
    "\n",
    "print('\\nSorted and combined list- ',c)"
   ]
  },
  {
   "cell_type": "code",
   "execution_count": 10,
   "metadata": {},
   "outputs": [
    {
     "name": "stdout",
     "output_type": "stream",
     "text": [
      "Enter the student names- GOVIND NEHA RAM POOJA GOPAL\n",
      "\n",
      "Enter the marks of above students- 100 93 98 79 86\n",
      "{'GOVIND': 100, 'NEHA': 93, 'RAM': 98, 'POOJA': 79, 'GOPAL': 86}\n",
      "[('POOJA', 79), ('GOPAL', 86), ('NEHA', 93), ('RAM', 98), ('GOVIND', 100)]\n"
     ]
    }
   ],
   "source": [
    "'''Q6. Create a user defined dictionary to store names and marks of 5 student. Sort the dictionary according to marks and\n",
    "return this sorted dictionary to user.'''\n",
    "\n",
    "a=input(\"Enter the student names- \")\n",
    "a=a.split(' ')\n",
    "b=input('\\nEnter the marks of above students- ')\n",
    "b=map(int,b.split(' '))\n",
    "c=dict(zip(a,b))\n",
    "print(c)\n",
    "d=sorted(c.items(),key=lambda c:c[1])\n",
    "print(d)"
   ]
  },
  {
   "cell_type": "code",
   "execution_count": null,
   "metadata": {},
   "outputs": [],
   "source": []
  }
 ],
 "metadata": {
  "kernelspec": {
   "display_name": "Python 3",
   "language": "python",
   "name": "python3"
  },
  "language_info": {
   "codemirror_mode": {
    "name": "ipython",
    "version": 3
   },
   "file_extension": ".py",
   "mimetype": "text/x-python",
   "name": "python",
   "nbconvert_exporter": "python",
   "pygments_lexer": "ipython3",
   "version": "3.7.6"
  }
 },
 "nbformat": 4,
 "nbformat_minor": 4
}
